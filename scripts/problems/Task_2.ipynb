{
  "nbformat": 4,
  "nbformat_minor": 5,
  "metadata": {
    "kernelspec": {
      "display_name": "Python 3",
      "language": "python",
      "name": "python3"
    },
    "language_info": {
      "codemirror_mode": {
        "name": "ipython",
        "version": 3
      },
      "file_extension": ".py",
      "mimetype": "text/x-python",
      "name": "python",
      "nbconvert_exporter": "python",
      "pygments_lexer": "ipython3",
      "version": "3.9.2"
    },
    "colab": {
      "name": "Task 1.ipynb",
      "provenance": []
    }
  },
  "cells": [
    {
      "cell_type": "markdown",
      "metadata": {
        "id": "frank-statistics"
      },
      "source": [
        "### Task 2"
      ],
      "id": "frank-statistics"
    },
    {
      "cell_type": "code",
      "metadata": {
        "id": "hundred-making"
      },
      "source": [
        "import numpy as np\n",
        "import re"
      ],
      "id": "hundred-making",
      "execution_count": 1,
      "outputs": []
    },
    {
      "cell_type": "code",
      "metadata": {
        "colab": {
          "base_uri": "https://localhost:8080/"
        },
        "id": "orange-restriction",
        "outputId": "269dea67-3c36-4677-8613-55416a830ce9"
      },
      "source": [
        "sample_listofreview=['Food was damn good!:)','good food. recommended','YOU PEOPLE ARE THE BEST!!!','It tasted very bad..... too bad service as well']\n",
        "print(sample_listofreview)"
      ],
      "id": "orange-restriction",
      "execution_count": 2,
      "outputs": [
        {
          "output_type": "stream",
          "name": "stdout",
          "text": [
            "['Food was damn good!:)', 'good food. recommended', 'YOU PEOPLE ARE THE BEST!!!', 'It tasted very bad..... too bad service as well']\n"
          ]
        }
      ]
    },
    {
      "cell_type": "code",
      "metadata": {
        "id": "refined-diving"
      },
      "source": [
        "sample=sample_listofreview[2]\n",
        "sample=re.sub('[!@#$%.^&*()_+}{\":?><\"}]','',sample)\n",
        "print(sample)\n",
        "sample=sample.lower()\n",
        "print('\\n')\n",
        "print(sample)"
      ],
      "id": "refined-diving",
      "execution_count": null,
      "outputs": []
    },
    {
      "cell_type": "markdown",
      "metadata": {
        "id": "appointed-consciousness"
      },
      "source": [
        "#### Preprocessing the data"
      ],
      "id": "appointed-consciousness"
    },
    {
      "cell_type": "code",
      "metadata": {
        "id": "former-fifteen"
      },
      "source": [
        "processed_reviews=[]\n",
        "for review in sample_listofreview:\n",
        "    for words in review:\n",
        "        review=re.sub('[!@#$%^&*.()_+}{\":?><\"}]','',review)\n",
        "        review=review.lower()\n",
        "    processed_reviews.append(review)\n",
        "    \n",
        "print(processed_reviews)"
      ],
      "id": "former-fifteen",
      "execution_count": null,
      "outputs": []
    },
    {
      "cell_type": "markdown",
      "metadata": {
        "id": "bored-match"
      },
      "source": [
        "#### Collecting the uniques words"
      ],
      "id": "bored-match"
    },
    {
      "cell_type": "code",
      "metadata": {
        "id": "quarterly-bride"
      },
      "source": [
        "unique_words=[]\n",
        "for review in processed_reviews:\n",
        "    for word in review.split():\n",
        "        if word not in unique_words:\n",
        "            unique_words.append(word)\n",
        "\n",
        "print('list of unique words',unique_words)"
      ],
      "id": "quarterly-bride",
      "execution_count": null,
      "outputs": []
    },
    {
      "cell_type": "code",
      "metadata": {
        "id": "lovely-being"
      },
      "source": [
        "feature_matrix=np.zeros((len(processed_reviews),len(unique_words)))\n",
        "for n,review in enumerate(processed_reviews):\n",
        "    for word in review.split():\n",
        "        feature_matrix[n][unique_words.index(word)]=review.count(word)\n",
        "        \n",
        "feature_matrix"
      ],
      "id": "lovely-being",
      "execution_count": null,
      "outputs": []
    },
    {
      "cell_type": "markdown",
      "metadata": {
        "id": "involved-integrity"
      },
      "source": [
        "#### Assignment task\n",
        "<pre>\n",
        "Download data from <a href='https://tinyurl.com/47rx5cce'>link</a>\n",
        "\n",
        "1. process the data \n",
        "1a. remove special characters\n",
        "1b. remove non english words\n",
        "1c. remove numerical values\n",
        "1d. all words in lower case\n",
        "1e. remove punctuation\n",
        "1f. Featurize using Bag of Words technique\n",
        "\n",
        "2. Fit the Naive Bayes Classifier\n",
        "3. Report the Accuracy\n",
        "4. Compare the Results from other Variants of NB Models \n",
        "5. Write your own observations\n",
        "\n",
        "</pre>\n"
      ],
      "id": "involved-integrity"
    },
    {
      "cell_type": "code",
      "metadata": {
        "id": "measured-logistics"
      },
      "source": [
        ""
      ],
      "id": "measured-logistics",
      "execution_count": null,
      "outputs": []
    }
  ]
}