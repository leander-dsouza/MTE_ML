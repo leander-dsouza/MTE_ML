{
  "nbformat": 4,
  "nbformat_minor": 5,
  "metadata": {
    "kernelspec": {
      "display_name": "Python 3",
      "language": "python",
      "name": "python3"
    },
    "language_info": {
      "codemirror_mode": {
        "name": "ipython",
        "version": 3
      },
      "file_extension": ".py",
      "mimetype": "text/x-python",
      "name": "python",
      "nbconvert_exporter": "python",
      "pygments_lexer": "ipython3",
      "version": "3.9.2"
    },
    "colab": {
      "name": "Task_3.ipynb",
      "provenance": [],
      "collapsed_sections": []
    }
  },
  "cells": [
    {
      "cell_type": "markdown",
      "metadata": {
        "id": "frank-statistics"
      },
      "source": [
        "### Task 3"
      ],
      "id": "frank-statistics"
    },
    {
      "cell_type": "markdown",
      "metadata": {
        "id": "involved-integrity"
      },
      "source": [
        "#### Assignment task\n",
        "<pre>\n",
        "Download data from <a href='https://tinyurl.com/ym6xcth4'>link</a>\n",
        "\n",
        "1. Build a feature Matrix using TF-IDF method\n",
        "2. Fit the Log Regression Classifier and get Accuracy, Precision, Recall and AUC Score\n",
        "3. Compare the results with Naive Bayes\n",
        "4. Write your observations\n",
        "\n",
        "</pre>\n"
      ],
      "id": "involved-integrity"
    },
    {
      "cell_type": "markdown",
      "metadata": {
        "id": "rQBlDBEJBObb"
      },
      "source": [
        "<img src='https://i.imgur.com/ELUAXGn.png'>"
      ],
      "id": "rQBlDBEJBObb"
    }
  ]
}